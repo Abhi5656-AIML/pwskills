{
 "cells": [
  {
   "cell_type": "markdown",
   "id": "279e3169-6c1f-4809-bab7-e52a28e832fc",
   "metadata": {},
   "source": [
    "### Support Vector Machine (SVM) Questions\n",
    "\n",
    "1. What is a Support Vector Machine (SVM)?\n",
    "   SVM is a supervised machine learning algorithm used for classification and regression. It finds the optimal hyperplane that best separates data into classes with the maximum margin.\n",
    "\n",
    "2. What is the difference between Hard Margin and Soft Margin SVM?\n",
    "\n",
    "    Hard Margin: No tolerance for misclassification, only works with linearly separable data.\n",
    "    Soft Margin: Allows some misclassification to better handle noisy or overlapping data.\n",
    "\n",
    "3. What is the mathematical intuition behind SVM?\n",
    "   SVM aims to maximize the margin between two classes. This is formulated as a convex optimization problem, minimizing the norm of the weight vector while ensuring correct classification.\n",
    "\n",
    "4. What is the role of Lagrange Multipliers in SVM?\n",
    "   They transform the constrained optimization problem into a form that can be solved using dual formulations, simplifying calculations, especially with kernels.\n",
    "\n",
    "5. What are Support Vectors in SVM?\n",
    "   These are the data points that lie closest to the decision boundary. They are critical in defining the position and orientation of the hyperplane.\n",
    "\n",
    "6. What is a Support Vector Classifier (SVC)?\n",
    "   An implementation of SVM specifically used for classification tasks.\n",
    "\n",
    "7. What is a Support Vector Regressor (SVR)?\n",
    "   SVR adapts SVM for regression by fitting a function within a specified margin of tolerance to the training data.\n",
    "\n",
    "8. What is the Kernel Trick in SVM?\n",
    "   It allows SVM to operate in a high-dimensional feature space without explicitly computing the coordinates of the data in that space, using kernel functions.\n",
    "\n",
    "9. Compare Linear Kernel, Polynomial Kernel, and RBF Kernel.\n",
    "\n",
    "   Linear Kernel: Used when data is linearly separable.\n",
    "   Polynomial Kernel: Captures interactions of features up to a certain degree.\n",
    "   RBF Kernel: Captures non-linear relationships; popular for complex datasets.\n",
    "\n",
    "10. What is the effect of the C parameter in SVM?\n",
    "    C controls the trade-off between achieving a low training error and a low testing error (margin size). A high C emphasizes correct classification; a low C allows a larger margin.\n",
    "\n",
    "11. What is the role of the Gamma parameter in RBF Kernel SVM?\n",
    "    Gamma defines how far the influence of a single training example reaches. A low value means ‘far’, and a high value means ‘close’.\n",
    "\n",
    "\n",
    "### Naïve Bayes Questions\n",
    "\n",
    "12. What is the Naïve Bayes classifier, and why is it called \"Naïve\"?\n",
    "    It's a probabilistic classifier based on Bayes’ Theorem with the assumption of independence between features—hence “naïve”.\n",
    "\n",
    "13. What is Bayes’ Theorem?\n",
    "    P(A|B) = \\frac{P(B|A) \\cdot P(A)}{P(B)}\n",
    "    It calculates the probability of event A given event B.\n",
    "\n",
    "14. Explain the differences between Gaussian Naïve Bayes, Multinomial Naïve Bayes, and Bernoulli Naïve Bayes.\n",
    "\n",
    "    Gaussian: For continuous data assuming Gaussian distribution.\n",
    "    Multinomial: For discrete counts (e.g., word counts in text).\n",
    "    Bernoulli: For binary/boolean features (e.g., word presence).\n",
    "\n",
    "15. When should you use Gaussian Naïve Bayes over other variants?\n",
    "    When the features are continuous and roughly follow a normal distribution.\n",
    "\n",
    "16.What are the key assumptions made by Naïve Bayes?\n",
    "     Feature independence\n",
    "    Equal importance of all features\n",
    "     Distribution assumptions based on variant used (Gaussian, Multinomial, etc.)\n",
    "\n",
    "17. What are the advantages and disadvantages of Naïve Bayes?**\n",
    "\n",
    "    Advantages: Simple, fast, effective with large datasets and high-dimensional data.\n",
    "    Disadvantages: Assumes independence, which may not hold; performs poorly when features are highly correlated.\n",
    "\n",
    "18. Why is Naïve Bayes a good choice for text classification?\n",
    "    It handles high-dimensional data well, is computationally efficient, and works effectively with sparse data like word counts.\n",
    "\n",
    "19. Compare SVM and Naïve Bayes for classification tasks.\n",
    "    SVM: Works well with non-linear data, better accuracy, slower training.\n",
    "    Naïve Bayes: Faster training, good for text, less accurate if independence assumption is violated.\n",
    "\n",
    "20. How does Laplace Smoothing help in Naïve Bayes?\n",
    "    It prevents zero probability for unseen features by adding 1 to all feature counts, ensuring better generalization.\n",
    "\n"
   ]
  },
  {
   "cell_type": "code",
   "execution_count": 4,
   "id": "8f942d5f-2c89-4abc-b6ca-f2492c7f4e43",
   "metadata": {},
   "outputs": [
    {
     "name": "stdout",
     "output_type": "stream",
     "text": [
      "SVM on Iris Accuracy: 1.0\n"
     ]
    }
   ],
   "source": [
    "# 21. Write a Python program to train an SVM Classifier on the Iris dataset and evaluate accuracy.\n",
    "from sklearn import datasets\n",
    "from sklearn.model_selection import train_test_split\n",
    "from sklearn.svm import SVC\n",
    "from sklearn.metrics import accuracy_score\n",
    "\n",
    "iris = datasets.load_iris()\n",
    "X_train, X_test, y_train, y_test = train_test_split(iris.data, iris.target, test_size=0.3, random_state=42)\n",
    "model = SVC()\n",
    "model.fit(X_train, y_train)\n",
    "y_pred = model.predict(X_test)\n",
    "print(\"SVM on Iris Accuracy:\", accuracy_score(y_test, y_pred))"
   ]
  },
  {
   "cell_type": "code",
   "execution_count": 6,
   "id": "23c71d4a-9129-4c68-8f52-d394b333f659",
   "metadata": {},
   "outputs": [
    {
     "name": "stdout",
     "output_type": "stream",
     "text": [
      " SVM Linear Accuracy: 0.9814814814814815\n",
      " SVM RBF Accuracy: 0.7592592592592593\n"
     ]
    }
   ],
   "source": [
    "# 22. Write a Python program to train two SVM classifiers with Linear and RBF kernels on the Wine dataset, then compare their accuracies.\n",
    "from sklearn.datasets import load_wine\n",
    "wine = load_wine()\n",
    "X_train, X_test, y_train, y_test = train_test_split(wine.data, wine.target, test_size=0.3, random_state=42)\n",
    "model_linear = SVC(kernel='linear')\n",
    "model_rbf = SVC(kernel='rbf')\n",
    "model_linear.fit(X_train, y_train)\n",
    "model_rbf.fit(X_train, y_train)\n",
    "print(\" SVM Linear Accuracy:\", accuracy_score(y_test, model_linear.predict(X_test)))\n",
    "print(\" SVM RBF Accuracy:\", accuracy_score(y_test, model_rbf.predict(X_test)))"
   ]
  },
  {
   "cell_type": "code",
   "execution_count": 8,
   "id": "82982e6f-cc51-411b-b3ff-9c0f036e98db",
   "metadata": {},
   "outputs": [
    {
     "name": "stdout",
     "output_type": "stream",
     "text": [
      " SVR MSE: 1.348922950122109\n"
     ]
    }
   ],
   "source": [
    "# 23. Write a Python program to train an SVM Regressor (SVR) on a housing dataset and evaluate it using Mean Squared Error (MSE).\n",
    "from sklearn.datasets import fetch_california_housing\n",
    "from sklearn.svm import SVR\n",
    "from sklearn.metrics import mean_squared_error\n",
    "\n",
    "housing = fetch_california_housing()\n",
    "X_train, X_test, y_train, y_test = train_test_split(housing.data, housing.target, test_size=0.3, random_state=42)\n",
    "regressor = SVR()\n",
    "regressor.fit(X_train, y_train)\n",
    "y_pred = regressor.predict(X_test)\n",
    "print(\" SVR MSE:\", mean_squared_error(y_test, y_pred))"
   ]
  },
  {
   "cell_type": "code",
   "execution_count": 12,
   "id": "0efd667b-2d78-4698-82df-107cf83bcd98",
   "metadata": {},
   "outputs": [
    {
     "data": {
      "image/png": "[encoded data removed]",
      "text/plain": [
       "<Figure size 640x480 with 1 Axes>"
      ]
     },
     "metadata": {},
     "output_type": "display_data"
    }
   ],
   "source": [
    "# 24. Write a Python program to train an SVM Classifier with a Polynomial Kernel and visualize the decision boundary.\n",
    "import matplotlib.pyplot as plt\n",
    "import numpy as np\n",
    "from sklearn.datasets import make_classification\n",
    "\n",
    "X, y = make_classification(n_features=2, n_redundant=0, n_informative=2, n_clusters_per_class=1, n_samples=100, random_state=42)\n",
    "model = SVC(kernel='poly', degree=3)\n",
    "model.fit(X, y)\n",
    "# Plot decision boundary\n",
    "x_min, x_max = X[:, 0].min() - 1, X[:, 0].max() + 1\n",
    "y_min, y_max = X[:, 1].min() - 1, X[:, 1].max() + 1\n",
    "xx, yy = np.meshgrid(np.arange(x_min, x_max, 0.1), np.arange(y_min, y_max, 0.1))\n",
    "Z = model.predict(np.c_[xx.ravel(), yy.ravel()])\n",
    "Z = Z.reshape(xx.shape)\n",
    "plt.contourf(xx, yy, Z, alpha=0.8)\n",
    "plt.scatter(X[:, 0], X[:, 1], c=y)\n",
    "plt.title(\" SVM with Polynomial Kernel\")\n",
    "plt.show()"
   ]
  },
  {
   "cell_type": "code",
   "execution_count": 14,
   "id": "d2638d09-a11a-4f27-ad8e-541a4b62b43d",
   "metadata": {},
   "outputs": [
    {
     "name": "stdout",
     "output_type": "stream",
     "text": [
      " Gaussian NB Accuracy: 0.9415204678362573\n"
     ]
    }
   ],
   "source": [
    "# 25. Write a Python program to train a Gaussian Naïve Bayes classifier on the Breast Cancer dataset and evaluate accuracy.\n",
    "from sklearn.naive_bayes import GaussianNB\n",
    "from sklearn.datasets import load_breast_cancer\n",
    "\n",
    "cancer = load_breast_cancer()\n",
    "X_train, X_test, y_train, y_test = train_test_split(cancer.data, cancer.target, test_size=0.3, random_state=42)\n",
    "model = GaussianNB()\n",
    "model.fit(X_train, y_train)\n",
    "y_pred = model.predict(X_test)\n",
    "print(\" Gaussian NB Accuracy:\", accuracy_score(y_test, y_pred))"
   ]
  },
  {
   "cell_type": "code",
   "execution_count": 16,
   "id": "0eb0b6af-cb82-427b-88fb-b4f147fadd35",
   "metadata": {},
   "outputs": [
    {
     "name": "stdout",
     "output_type": "stream",
     "text": [
      " Multinomial NB Accuracy: 0.5178203240058911\n"
     ]
    }
   ],
   "source": [
    "# 26. Write a Python program to train a Multinomial Naïve Bayes classifier for text classification using the 20 Newsgroups dataset.\n",
    "from sklearn.datasets import fetch_20newsgroups\n",
    "from sklearn.feature_extraction.text import CountVectorizer\n",
    "from sklearn.naive_bayes import MultinomialNB\n",
    "\n",
    "news = fetch_20newsgroups(subset='train', remove=('headers', 'footers', 'quotes'))\n",
    "vectorizer = CountVectorizer()\n",
    "X = vectorizer.fit_transform(news.data)\n",
    "y = news.target\n",
    "X_train, X_test, y_train, y_test = train_test_split(X, y, test_size=0.3, random_state=42)\n",
    "model = MultinomialNB()\n",
    "model.fit(X_train, y_train)\n",
    "print(\" Multinomial NB Accuracy:\", model.score(X_test, y_test))"
   ]
  },
  {
   "cell_type": "code",
   "execution_count": 28,
   "id": "b98850d9-38ed-4ac1-bbe3-494855a5ec54",
   "metadata": {},
   "outputs": [
    {
     "data": {
      "image/png": "[encoded data removed]",
      "text/plain": [
       "<Figure size 1200x400 with 3 Axes>"
      ]
     },
     "metadata": {},
     "output_type": "display_data"
    }
   ],
   "source": [
    "# 27. Write a Python program to train an SVM Classifier with different C values and compare the decision boundaries visually.\n",
    "from sklearn.datasets import make_classification\n",
    "import matplotlib.pyplot as plt\n",
    "import numpy as np\n",
    "from sklearn.svm import SVC\n",
    "\n",
    "X_vis, y_vis = make_classification(n_samples=100, n_features=2, n_redundant=0,\n",
    "                                    n_informative=2, n_clusters_per_class=1, random_state=42)\n",
    "\n",
    "x_min, x_max = X_vis[:, 0].min() - 1, X_vis[:, 0].max() + 1\n",
    "y_min, y_max = X_vis[:, 1].min() - 1, X_vis[:, 1].max() + 1\n",
    "xx, yy = np.meshgrid(np.arange(x_min, x_max, 0.1),\n",
    "                     np.arange(y_min, y_max, 0.1))\n",
    "\n",
    "Cs = [0.1, 1, 10]\n",
    "plt.figure(figsize=(12, 4))\n",
    "for i, C in enumerate(Cs):\n",
    "    model = SVC(C=C, kernel='linear')\n",
    "    model.fit(X_vis, y_vis)\n",
    "    Z = model.predict(np.c_[xx.ravel(), yy.ravel()]).reshape(xx.shape)\n",
    "    \n",
    "    plt.subplot(1, 3, i + 1)\n",
    "    plt.contourf(xx, yy, Z, alpha=0.8)\n",
    "    plt.scatter(X_vis[:, 0], X_vis[:, 1], c=y_vis, edgecolors='k')\n",
    "    plt.title(f\"SVM with C={C}\")\n",
    "\n",
    "plt.suptitle(\" Decision Boundaries for Different C Values\")\n",
    "plt.tight_layout()\n",
    "plt.show()\n"
   ]
  },
  {
   "cell_type": "code",
   "execution_count": 22,
   "id": "5b5356df-a4d6-4961-a4fc-68f0421615bf",
   "metadata": {},
   "outputs": [
    {
     "name": "stdout",
     "output_type": "stream",
     "text": [
      "Bernoulli NB Accuracy: 0.7333333333333333\n"
     ]
    }
   ],
   "source": [
    "# 28. Write a Python program to train a Bernoulli Naïve Bayes classifier for binary classification on a dataset with binary features.\n",
    "from sklearn.naive_bayes import BernoulliNB\n",
    "from sklearn.preprocessing import Binarizer\n",
    "\n",
    "X, y = datasets.make_classification(n_features=20, n_informative=10, n_classes=2, random_state=42)\n",
    "X = Binarizer().fit_transform(X)\n",
    "X_train, X_test, y_train, y_test = train_test_split(X, y, test_size=0.3, random_state=42)\n",
    "model = BernoulliNB()\n",
    "model.fit(X_train, y_train)\n",
    "print(\"Bernoulli NB Accuracy:\", accuracy_score(y_test, model.predict(X_test)))"
   ]
  },
  {
   "cell_type": "code",
   "execution_count": 26,
   "id": "93b8cfaf-64b8-433b-972e-d17c793c03fd",
   "metadata": {},
   "outputs": [
    {
     "name": "stdout",
     "output_type": "stream",
     "text": [
      " Accuracy without scaling: 0.88\n",
      " Accuracy with scaling: 0.88\n"
     ]
    }
   ],
   "source": [
    "# 29. Write a Python program to apply feature scaling before training an SVM model and compare results with unscaled data.\n",
    "from sklearn.preprocessing import StandardScaler\n",
    "\n",
    "X, y = datasets.make_classification(n_samples=500, n_features=10, random_state=42)\n",
    "X_train, X_test, y_train, y_test = train_test_split(X, y, test_size=0.3, random_state=42)\n",
    "\n",
    "model_unscaled = SVC()\n",
    "model_unscaled.fit(X_train, y_train)\n",
    "unscaled_acc = accuracy_score(y_test, model_unscaled.predict(X_test))\n",
    "\n",
    "scaler = StandardScaler()\n",
    "X_train_scaled = scaler.fit_transform(X_train)\n",
    "X_test_scaled = scaler.transform(X_test)\n",
    "model_scaled = SVC()\n",
    "model_scaled.fit(X_train_scaled, y_train)\n",
    "scaled_acc = accuracy_score(y_test, model_scaled.predict(X_test_scaled))\n",
    "\n",
    "print(\" Accuracy without scaling:\", unscaled_acc)\n",
    "print(\" Accuracy with scaling:\", scaled_acc)\n"
   ]
  },
  {
   "cell_type": "code",
   "execution_count": 30,
   "id": "c83aba29-5bf5-4f43-bd55-5bd3b581d77a",
   "metadata": {},
   "outputs": [
    {
     "name": "stdout",
     "output_type": "stream",
     "text": [
      "Accuracy (GaussianNB): 1.0\n"
     ]
    }
   ],
   "source": [
    "# 30. Train a Gaussian Naïve Bayes model and compare predictions before and after Laplace Smoothing.\n",
    "\n",
    "from sklearn.datasets import load_iris\n",
    "from sklearn.model_selection import train_test_split\n",
    "from sklearn.naive_bayes import GaussianNB\n",
    "from sklearn.metrics import accuracy_score\n",
    "\n",
    "data = load_iris()\n",
    "X_train, X_test, y_train, y_test = train_test_split(data.data, data.target, random_state=42)\n",
    "\n",
    "# GaussianNB does not support Laplace directly, but smoothing applies to categorical models\n",
    "model = GaussianNB()\n",
    "model.fit(X_train, y_train)\n",
    "y_pred = model.predict(X_test)\n",
    "\n",
    "print(\"Accuracy (GaussianNB):\", accuracy_score(y_test, y_pred))\n"
   ]
  },
  {
   "cell_type": "code",
   "execution_count": 32,
   "id": "d3c86e78-3b45-47d1-88cb-456129511154",
   "metadata": {},
   "outputs": [
    {
     "name": "stdout",
     "output_type": "stream",
     "text": [
      "Best parameters: {'C': 0.1, 'gamma': 'scale', 'kernel': 'linear'}\n",
      "Best score: 0.961111111111111\n"
     ]
    }
   ],
   "source": [
    "# 31. Train an SVM Classifier and use GridSearchCV to tune hyperparameters (C, gamma, kernel).\n",
    "\n",
    "from sklearn.datasets import load_wine\n",
    "from sklearn.model_selection import GridSearchCV\n",
    "from sklearn.svm import SVC\n",
    "\n",
    "X, y = load_wine(return_X_y=True)\n",
    "params = {'C': [0.1, 1, 10], 'gamma': ['scale', 'auto'], 'kernel': ['linear', 'rbf']}\n",
    "grid = GridSearchCV(SVC(), params, cv=5)\n",
    "grid.fit(X, y)\n",
    "print(\"Best parameters:\", grid.best_params_)\n",
    "print(\"Best score:\", grid.best_score_)\n"
   ]
  },
  {
   "cell_type": "code",
   "execution_count": 34,
   "id": "23bf7d2f-c21d-4f1c-9c6f-d810cc37d6f2",
   "metadata": {},
   "outputs": [
    {
     "name": "stdout",
     "output_type": "stream",
     "text": [
      "              precision    recall  f1-score   support\n",
      "\n",
      "           0       0.39      0.65      0.49        23\n",
      "           1       0.96      0.90      0.93       227\n",
      "\n",
      "    accuracy                           0.88       250\n",
      "   macro avg       0.68      0.78      0.71       250\n",
      "weighted avg       0.91      0.88      0.89       250\n",
      "\n"
     ]
    }
   ],
   "source": [
    "# 32. Train an SVM Classifier on an imbalanced dataset and apply class weighting.\n",
    "\n",
    "from sklearn.datasets import make_classification\n",
    "from sklearn.svm import SVC\n",
    "from sklearn.model_selection import train_test_split\n",
    "from sklearn.metrics import classification_report\n",
    "\n",
    "X, y = make_classification(n_classes=2, weights=[0.1, 0.9], n_samples=1000, n_features=20, random_state=42)\n",
    "X_train, X_test, y_train, y_test = train_test_split(X, y, random_state=42)\n",
    "\n",
    "model = SVC(class_weight='balanced')\n",
    "model.fit(X_train, y_train)\n",
    "y_pred = model.predict(X_test)\n",
    "print(classification_report(y_test, y_pred))\n"
   ]
  },
  {
   "cell_type": "code",
   "execution_count": 36,
   "id": "f6a83dcc-a22f-4f32-b983-26d0ce2539c2",
   "metadata": {},
   "outputs": [
    {
     "name": "stdout",
     "output_type": "stream",
     "text": [
      "Accuracy: 0.9660377358490566\n"
     ]
    }
   ],
   "source": [
    "# 33. Implement a Naïve Bayes classifier for spam detection using email data.\n",
    "\n",
    "from sklearn.datasets import fetch_20newsgroups\n",
    "from sklearn.feature_extraction.text import CountVectorizer\n",
    "from sklearn.naive_bayes import MultinomialNB\n",
    "from sklearn.model_selection import train_test_split\n",
    "from sklearn.metrics import accuracy_score\n",
    "\n",
    "categories = ['sci.space', 'talk.politics.misc']\n",
    "data = fetch_20newsgroups(subset='train', categories=categories)\n",
    "X_train, X_test, y_train, y_test = train_test_split(data.data, data.target, random_state=42)\n",
    "\n",
    "vectorizer = CountVectorizer()\n",
    "X_train_vec = vectorizer.fit_transform(X_train)\n",
    "X_test_vec = vectorizer.transform(X_test)\n",
    "\n",
    "model = MultinomialNB()\n",
    "model.fit(X_train_vec, y_train)\n",
    "y_pred = model.predict(X_test_vec)\n",
    "print(\"Accuracy:\", accuracy_score(y_test, y_pred))\n"
   ]
  },
  {
   "cell_type": "code",
   "execution_count": 38,
   "id": "f2fac98e-7e94-402b-9875-e9733cb6a6e7",
   "metadata": {},
   "outputs": [
    {
     "name": "stdout",
     "output_type": "stream",
     "text": [
      "SVM Accuracy: 1.0\n",
      "Naïve Bayes Accuracy: 1.0\n"
     ]
    }
   ],
   "source": [
    "# 34. Train an SVM and a Naïve Bayes Classifier on the same dataset and compare accuracy.\n",
    "\n",
    "from sklearn.datasets import load_iris\n",
    "from sklearn.svm import SVC\n",
    "from sklearn.naive_bayes import GaussianNB\n",
    "\n",
    "X, y = load_iris(return_X_y=True)\n",
    "X_train, X_test, y_train, y_test = train_test_split(X, y, random_state=42)\n",
    "\n",
    "svm_model = SVC().fit(X_train, y_train)\n",
    "nb_model = GaussianNB().fit(X_train, y_train)\n",
    "\n",
    "print(\"SVM Accuracy:\", svm_model.score(X_test, y_test))\n",
    "print(\"Naïve Bayes Accuracy:\", nb_model.score(X_test, y_test))\n"
   ]
  },
  {
   "cell_type": "code",
   "execution_count": 40,
   "id": "c3919efa-cea1-4ef0-a379-ccf21533a58f",
   "metadata": {},
   "outputs": [
    {
     "name": "stdout",
     "output_type": "stream",
     "text": [
      "Accuracy after feature selection: 1.0\n"
     ]
    }
   ],
   "source": [
    "# 35. Perform feature selection before training a Naïve Bayes classifier and compare results.\n",
    "\n",
    "from sklearn.feature_selection import SelectKBest, f_classif\n",
    "\n",
    "X_new = SelectKBest(score_func=f_classif, k=2).fit_transform(X_train, y_train)\n",
    "nb = GaussianNB()\n",
    "nb.fit(X_new, y_train)\n",
    "print(\"Accuracy after feature selection:\", nb.score(SelectKBest(score_func=f_classif, k=2).fit_transform(X_test, y_test), y_test))\n"
   ]
  },
  {
   "cell_type": "code",
   "execution_count": 42,
   "id": "cdb0800a-6eec-4a27-8933-b490746875c2",
   "metadata": {},
   "outputs": [
    {
     "name": "stdout",
     "output_type": "stream",
     "text": [
      "OvR Accuracy: 0.6853932584269663\n",
      "OvO Accuracy: 0.7247191011235955\n"
     ]
    }
   ],
   "source": [
    "# 36. Train SVM using One-vs-Rest and One-vs-One on the Wine dataset.\n",
    "\n",
    "from sklearn.multiclass import OneVsRestClassifier, OneVsOneClassifier\n",
    "\n",
    "X, y = load_wine(return_X_y=True)\n",
    "ovr_model = OneVsRestClassifier(SVC()).fit(X, y)\n",
    "ovo_model = OneVsOneClassifier(SVC()).fit(X, y)\n",
    "\n",
    "print(\"OvR Accuracy:\", ovr_model.score(X, y))\n",
    "print(\"OvO Accuracy:\", ovo_model.score(X, y))\n"
   ]
  },
  {
   "cell_type": "code",
   "execution_count": 44,
   "id": "aa69e291-ec5b-4e42-8cac-fec350da32b8",
   "metadata": {},
   "outputs": [
    {
     "name": "stdout",
     "output_type": "stream",
     "text": [
      "linear kernel Accuracy: 1.0\n",
      "poly kernel Accuracy: 0.9736842105263158\n",
      "rbf kernel Accuracy: 1.0\n"
     ]
    }
   ],
   "source": [
    "# 37. Train SVM using Linear, Polynomial, and RBF kernels on Breast Cancer dataset.\n",
    "\n",
    "from sklearn.datasets import load_breast_cancer\n",
    "\n",
    "X, y = load_breast_cancer(return_X_y=True)\n",
    "for kernel in ['linear', 'poly', 'rbf']:\n",
    "    model = SVC(kernel=kernel)\n",
    "    model.fit(X_train, y_train)\n",
    "    print(f\"{kernel} kernel Accuracy:\", model.score(X_test, y_test))\n"
   ]
  },
  {
   "cell_type": "code",
   "execution_count": 46,
   "id": "ee79efe2-f686-4028-a3a9-12915cdbcce0",
   "metadata": {},
   "outputs": [
    {
     "name": "stdout",
     "output_type": "stream",
     "text": [
      "Average Accuracy: 0.9121720229777983\n"
     ]
    }
   ],
   "source": [
    "# 38. Train SVM using Stratified K-Fold Cross-Validation and compute average accuracy.\n",
    "\n",
    "from sklearn.model_selection import StratifiedKFold, cross_val_score\n",
    "\n",
    "model = SVC(kernel='rbf')\n",
    "cv = StratifiedKFold(n_splits=5)\n",
    "scores = cross_val_score(model, X, y, cv=cv)\n",
    "print(\"Average Accuracy:\", scores.mean())\n"
   ]
  },
  {
   "cell_type": "code",
   "execution_count": 50,
   "id": "e1ae15ef-7d54-432d-aaec-d4d0cb2e0643",
   "metadata": {},
   "outputs": [
    {
     "name": "stdout",
     "output_type": "stream",
     "text": [
      "Accuracy with priors [0.3, 0.7]: 0.9660377358490566\n",
      "Accuracy with priors [0.5, 0.5]: 0.9660377358490566\n"
     ]
    }
   ],
   "source": [
    "# 39. Train Naïve Bayes classifier using different prior probabilities.\n",
    "\n",
    "from sklearn.datasets import fetch_20newsgroups\n",
    "from sklearn.feature_extraction.text import CountVectorizer\n",
    "from sklearn.naive_bayes import MultinomialNB\n",
    "from sklearn.model_selection import train_test_split\n",
    "from sklearn.metrics import accuracy_score\n",
    "\n",
    "# Load a 2-class dataset\n",
    "categories = ['sci.space', 'talk.politics.misc']\n",
    "data = fetch_20newsgroups(subset='train', categories=categories)\n",
    "X_train, X_test, y_train, y_test = train_test_split(data.data, data.target, random_state=42)\n",
    "\n",
    "# Vectorize\n",
    "vectorizer = CountVectorizer()\n",
    "X_train_vec = vectorizer.fit_transform(X_train)\n",
    "X_test_vec = vectorizer.transform(X_test)\n",
    "\n",
    "# Try different priors for 2 classes\n",
    "priors = [[0.3, 0.7], [0.5, 0.5]]\n",
    "\n",
    "for p in priors:\n",
    "    model = MultinomialNB(class_prior=p)\n",
    "    model.fit(X_train_vec, y_train)\n",
    "    acc = model.score(X_test_vec, y_test)\n",
    "    print(f\"Accuracy with priors {p}: {acc}\")\n",
    "\n"
   ]
  },
  {
   "cell_type": "code",
   "execution_count": 58,
   "id": "dd1fa4fd-cfd2-4312-94f2-eb17602c5e7d",
   "metadata": {},
   "outputs": [
    {
     "name": "stdout",
     "output_type": "stream",
     "text": [
      "RFE + SVM Accuracy: 1.0\n",
      "Selected Features (True=selected): [False False  True  True]\n",
      "Feature Ranking: [3 2 1 1]\n"
     ]
    }
   ],
   "source": [
    "# 40. Apply Recursive Feature Elimination (RFE) with SVM to select top features and evaluate performance.\n",
    "\n",
    "from sklearn.datasets import load_iris\n",
    "from sklearn.feature_selection import RFE\n",
    "from sklearn.svm import SVC\n",
    "from sklearn.model_selection import train_test_split\n",
    "from sklearn.metrics import accuracy_score\n",
    "\n",
    "# Load numeric dataset\n",
    "data = load_iris()\n",
    "X, y = data.data, data.target\n",
    "\n",
    "# Split into train/test\n",
    "X_train, X_test, y_train, y_test = train_test_split(X, y, random_state=42)\n",
    "\n",
    "# SVM with linear kernel\n",
    "model = SVC(kernel='linear')\n",
    "\n",
    "# Recursive Feature Elimination - select top 2 features\n",
    "selector = RFE(model, n_features_to_select=2)\n",
    "selector.fit(X_train, y_train)\n",
    "\n",
    "# Evaluate\n",
    "accuracy = selector.score(X_test, y_test)\n",
    "print(\"RFE + SVM Accuracy:\", accuracy)\n",
    "\n",
    "# Print selected features\n",
    "print(\"Selected Features (True=selected):\", selector.support_)\n",
    "print(\"Feature Ranking:\", selector.ranking_)\n"
   ]
  },
  {
   "cell_type": "code",
   "execution_count": 60,
   "id": "5c0816dd-c405-4c49-b135-e28b8cd0e2b3",
   "metadata": {},
   "outputs": [
    {
     "name": "stdout",
     "output_type": "stream",
     "text": [
      "              precision    recall  f1-score   support\n",
      "\n",
      "           0       1.00      1.00      1.00        15\n",
      "           1       1.00      1.00      1.00        11\n",
      "           2       1.00      1.00      1.00        12\n",
      "\n",
      "    accuracy                           1.00        38\n",
      "   macro avg       1.00      1.00      1.00        38\n",
      "weighted avg       1.00      1.00      1.00        38\n",
      "\n"
     ]
    }
   ],
   "source": [
    "# 41. Evaluate SVM using Precision, Recall, and F1-Score instead of accuracy.\n",
    "\n",
    "from sklearn.metrics import classification_report\n",
    "\n",
    "model = SVC()\n",
    "model.fit(X_train, y_train)\n",
    "y_pred = model.predict(X_test)\n",
    "print(classification_report(y_test, y_pred))\n"
   ]
  },
  {
   "cell_type": "code",
   "execution_count": 62,
   "id": "c0a10b27-e3a2-419f-83b3-cd79ed43919d",
   "metadata": {},
   "outputs": [
    {
     "name": "stdout",
     "output_type": "stream",
     "text": [
      "Log Loss: 0.02823704176925848\n"
     ]
    }
   ],
   "source": [
    "# 42. Train Naïve Bayes Classifier and evaluate using Log Loss (Cross-Entropy Loss).\n",
    "\n",
    "from sklearn.metrics import log_loss\n",
    "\n",
    "nb = GaussianNB()\n",
    "nb.fit(X_train, y_train)\n",
    "y_prob = nb.predict_proba(X_test)\n",
    "print(\"Log Loss:\", log_loss(y_test, y_prob))\n"
   ]
  },
  {
   "cell_type": "code",
   "execution_count": 64,
   "id": "23a88063-d99d-4a20-b6cb-6e0d795a9fb6",
   "metadata": {},
   "outputs": [
    {
     "data": {
      "image/png": "[encoded data removed]",
      "text/plain": [
       "<Figure size 640x480 with 2 Axes>"
      ]
     },
     "metadata": {},
     "output_type": "display_data"
    }
   ],
   "source": [
    "# 43. Train SVM and visualize Confusion Matrix using seaborn.\n",
    "\n",
    "import seaborn as sns\n",
    "from sklearn.metrics import confusion_matrix\n",
    "import matplotlib.pyplot as plt\n",
    "\n",
    "model = SVC()\n",
    "model.fit(X_train, y_train)\n",
    "y_pred = model.predict(X_test)\n",
    "cm = confusion_matrix(y_test, y_pred)\n",
    "\n",
    "sns.heatmap(cm, annot=True, fmt='d')\n",
    "plt.title(\"Confusion Matrix\")\n",
    "plt.xlabel(\"Predicted\")\n",
    "plt.ylabel(\"Actual\")\n",
    "plt.show()\n"
   ]
  },
  {
   "cell_type": "code",
   "execution_count": 66,
   "id": "aad64ee7-3361-4d46-b7c5-34378928d845",
   "metadata": {},
   "outputs": [
    {
     "name": "stdout",
     "output_type": "stream",
     "text": [
      "Mean Absolute Error: 0.8674205743031638\n"
     ]
    }
   ],
   "source": [
    "# 44. Train SVM Regressor (SVR) and evaluate using Mean Absolute Error.\n",
    "\n",
    "from sklearn.svm import SVR\n",
    "from sklearn.datasets import fetch_california_housing\n",
    "from sklearn.metrics import mean_absolute_error\n",
    "\n",
    "data = fetch_california_housing()\n",
    "X_train, X_test, y_train, y_test = train_test_split(data.data, data.target, random_state=42)\n",
    "model = SVR()\n",
    "model.fit(X_train, y_train)\n",
    "y_pred = model.predict(X_test)\n",
    "print(\"Mean Absolute Error:\", mean_absolute_error(y_test, y_pred))\n"
   ]
  },
  {
   "cell_type": "code",
   "execution_count": null,
   "id": "e7fc79bf-a3bf-46da-911b-3c4a50025753",
   "metadata": {},
   "outputs": [],
   "source": [
    "# 45. Train a Naïve Bayes classifier and evaluate its performance using the ROC-AUC score.\n",
    "\n",
    "from sklearn.datasets import load_breast_cancer\n",
    "from sklearn.model_selection import train_test_split\n",
    "from sklearn.naive_bayes import GaussianNB\n",
    "from sklearn.metrics import roc_auc_score, roc_curve\n",
    "import matplotlib.pyplot as plt\n",
    "\n",
    "# Load binary classification dataset\n",
    "data = load_breast_cancer()\n",
    "X, y = data.data, data.target\n",
    "\n",
    "# Train-test split\n",
    "X_train, X_test, y_train, y_test = train_test_split(X, y, test_size=0.2, random_state=42)\n",
    "\n",
    "# Train Naive Bayes model\n",
    "model = GaussianNB()\n",
    "model.fit(X_train, y_train)\n",
    "\n",
    "# Predict probabilities\n",
    "y_proba = model.predict_proba(X_test)[:, 1]\n",
    "\n",
    "# ROC-AUC score\n",
    "auc_score = roc_auc_score(y_test, y_proba)\n",
    "print(\"ROC-AUC Score:\", auc_score)\n",
    "\n",
    "# Plot ROC curve\n",
    "fpr, tpr, _ = roc_curve(y_test, y_proba)\n",
    "plt.plot(fpr, tpr, label=f'ROC Curve (AUC = {auc_score:.2f})')\n",
    "plt.plot([0, 1], [0, 1], 'k--')\n",
    "pl\n"
   ]
  }
 ],
 "metadata": {
  "kernelspec": {
   "display_name": "Python 3 (ipykernel)",
   "language": "python",
   "name": "python3"
  },
  "language_info": {
   "codemirror_mode": {
    "name": "ipython",
    "version": 3
   },
   "file_extension": ".py",
   "mimetype": "text/x-python",
   "name": "python",
   "nbconvert_exporter": "python",
   "pygments_lexer": "ipython3",
   "version": "3.12.7"
  }
 },
 "nbformat": 4,
 "nbformat_minor": 5
}
