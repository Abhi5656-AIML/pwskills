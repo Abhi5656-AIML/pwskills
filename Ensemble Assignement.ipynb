{
 "cells": [
  {
   "cell_type": "markdown",
   "id": "9b9898f0-569d-47e4-9da7-5fb4f096d1f5",
   "metadata": {},
   "source": [
    "# Ensemble Techniques"
   ]
  },
  {
   "cell_type": "markdown",
   "id": "24b66867-bdfa-49e5-9758-8f3fef111a51",
   "metadata": {},
   "source": [
    "1. Can we use Bagging for regression problems?\n",
    "   Yes, Bagging can be used for regression problems using models like BaggingRegressor.\n",
    "\n",
    "2. What is the difference between multiple model training and single model training?\n",
    "   Multiple model training uses an ensemble of models to improve accuracy and robustness, while single model training relies on one model, which may overfit or underperform.\n",
    "\n",
    "3. Explain the concept of feature randomness in Random Forest.\n",
    "   At each split in a Random Forest tree, a random subset of features is considered, introducing diversity and reducing correlation among trees.\n",
    "\n",
    "4. What is OOB (Out-of-Bag) Score?\n",
    "   It’s an internal validation method where each tree is evaluated on samples not used during its training (out-of-bag samples), providing an unbiased estimate of model performance.\n",
    "\n",
    "5. How can you measure the importance of features in a Random Forest model?\n",
    "   By calculating the decrease in impurity (Gini or entropy) or using permutation importance across all trees in the forest.\n",
    "\n",
    "6. Explain the working principle of a Bagging Classifier.\n",
    "   It trains multiple models on different bootstrapped subsets of data and combines their predictions (e.g., majority vote for classification).\n",
    "\n",
    "7. How do you evaluate a Bagging Classifier’s performance?\n",
    "   Use metrics like accuracy, precision, recall, F1-score, or ROC-AUC on a test or validation dataset.\n",
    "\n",
    "8. How does a Bagging Regressor work?\n",
    "   It fits multiple regressors on bootstrapped samples and averages their predictions for a final output.\n",
    "\n",
    "9. What is the main advantage of ensemble techniques?\n",
    "   Improved performance, generalization, and robustness compared to individual models.\n",
    "\n",
    "10. What is the main challenge of ensemble methods?\n",
    "    Increased computational cost and complexity in training and interpretation.\n",
    "\n",
    "11. Explain the key idea behind ensemble techniques.\n",
    "    Combine multiple weak or base models to create a strong, more accurate model.\n",
    "\n",
    "12. What is a Random Forest Classifier?\n",
    "    An ensemble model that uses bagging with decision trees and feature randomness to perform classification tasks.\n",
    "\n",
    "13. What are the main types of ensemble techniques?\n",
    "    Bagging, Boosting, Stacking, and Voting.\n",
    "\n",
    "14. What is ensemble learning in machine learning?\n",
    "    A technique where multiple models are combined to solve a problem, often leading to better accuracy and stability.\n",
    "\n",
    "15. When should we avoid using ensemble methods?\n",
    "    When interpretability is crucial or when computational resources are limited.\n",
    "\n",
    "16. How does Bagging help in reducing overfitting?\n",
    "    By averaging predictions over multiple diverse models, it reduces model variance and hence overfitting.\n",
    "\n",
    "17. Why is Random Forest better than a single Decision Tree?\n",
    "    It reduces overfitting and improves accuracy by aggregating multiple diverse decision trees.\n",
    "\n",
    "18. What is the role of bootstrap sampling in Bagging?\n",
    "    To create diverse training subsets by sampling with replacement, leading to less correlated base models.\n",
    "\n",
    "19. What are some real-world applications of ensemble techniques?\n",
    "    Fraud detection, spam filtering, medical diagnosis, credit scoring, and recommendation systems.\n",
    "\n",
    "20. What is the difference between Bagging and Boosting?\n",
    "    Bagging builds models independently in parallel to reduce variance, while Boosting builds them sequentially to reduce bias by focusing on previous errors."
   ]
  },
  {
   "cell_type": "markdown",
   "id": "3c34547e-7ec3-46a4-aace-1bd52b2f7cb6",
   "metadata": {},
   "source": [
    "### partical"
   ]
  },
  {
   "cell_type": "code",
   "execution_count": 8,
   "id": "5fb192e7-d011-4046-9a6b-f49ab9e8522c",
   "metadata": {},
   "outputs": [
    {
     "name": "stdout",
     "output_type": "stream",
     "text": [
      "Accuracy of Bagging Classifier with Decision Trees: 1.0000\n"
     ]
    }
   ],
   "source": [
    "# 21. Train a Bagging Classifier using Decision Trees on a sample dataset and print model accuracy.\n",
    "\n",
    "from sklearn.datasets import load_iris\n",
    "from sklearn.model_selection import train_test_split\n",
    "from sklearn.ensemble import BaggingClassifier\n",
    "from sklearn.tree import DecisionTreeClassifier\n",
    "from sklearn.metrics import accuracy_score\n",
    "\n",
    "# Load dataset\n",
    "X, y = load_iris(return_X_y=True)\n",
    "X_train, X_test, y_train, y_test = train_test_split(X, y, test_size=0.2, random_state=42)\n",
    "\n",
    "# Create Bagging Classifier\n",
    "bagging_clf = BaggingClassifier(estimator=DecisionTreeClassifier(), n_estimators=50, random_state=42)\n",
    "bagging_clf.fit(X_train, y_train)\n",
    "\n",
    "# Predict and evaluate\n",
    "y_pred = bagging_clf.predict(X_test)\n",
    "accuracy = accuracy_score(y_test, y_pred)\n",
    "print(f\"Accuracy of Bagging Classifier with Decision Trees: {accuracy:.4f}\")\n"
   ]
  },
  {
   "cell_type": "code",
   "execution_count": 10,
   "id": "43a24731-3987-4f33-aa03-c3ae6f7eafff",
   "metadata": {},
   "outputs": [
    {
     "name": "stdout",
     "output_type": "stream",
     "text": [
      "MSE of Bagging Regressor with Decision Trees: 3056.49\n"
     ]
    }
   ],
   "source": [
    "# 22. Train a Bagging Regressor using Decision Trees and evaluate using Mean Squared Error (MSE).\n",
    "\n",
    "from sklearn.datasets import load_diabetes\n",
    "from sklearn.model_selection import train_test_split\n",
    "from sklearn.ensemble import BaggingRegressor\n",
    "from sklearn.tree import DecisionTreeRegressor\n",
    "from sklearn.metrics import mean_squared_error\n",
    "\n",
    "# Load dataset\n",
    "X, y = load_diabetes(return_X_y=True)\n",
    "X_train, X_test, y_train, y_test = train_test_split(X, y, test_size=0.2, random_state=42)\n",
    "\n",
    "# Create Bagging Regressor\n",
    "bagging_reg = BaggingRegressor(estimator=DecisionTreeRegressor(), n_estimators=50, random_state=42)\n",
    "bagging_reg.fit(X_train, y_train)\n",
    "\n",
    "# Predict and evaluate\n",
    "y_pred = bagging_reg.predict(X_test)\n",
    "mse = mean_squared_error(y_test, y_pred)\n",
    "print(f\"MSE of Bagging Regressor with Decision Trees: {mse:.2f}\")\n"
   ]
  },
  {
   "cell_type": "code",
   "execution_count": 12,
   "id": "61902289-3033-4699-bcda-e555c6417384",
   "metadata": {},
   "outputs": [
    {
     "name": "stdout",
     "output_type": "stream",
     "text": [
      "mean radius: 0.0487\n",
      "mean texture: 0.0136\n",
      "mean perimeter: 0.0533\n",
      "mean area: 0.0476\n",
      "mean smoothness: 0.0073\n",
      "mean compactness: 0.0139\n",
      "mean concavity: 0.0680\n",
      "mean concave points: 0.1062\n",
      "mean symmetry: 0.0038\n",
      "mean fractal dimension: 0.0039\n",
      "radius error: 0.0201\n",
      "texture error: 0.0047\n",
      "perimeter error: 0.0113\n",
      "area error: 0.0224\n",
      "smoothness error: 0.0043\n",
      "compactness error: 0.0053\n",
      "concavity error: 0.0094\n",
      "concave points error: 0.0035\n",
      "symmetry error: 0.0040\n",
      "fractal dimension error: 0.0053\n",
      "worst radius: 0.0780\n",
      "worst texture: 0.0217\n",
      "worst perimeter: 0.0671\n",
      "worst area: 0.1539\n",
      "worst smoothness: 0.0106\n",
      "worst compactness: 0.0203\n",
      "worst concavity: 0.0318\n",
      "worst concave points: 0.1447\n",
      "worst symmetry: 0.0101\n",
      "worst fractal dimension: 0.0052\n"
     ]
    }
   ],
   "source": [
    "# 23. Train a Random Forest Classifier on the Breast Cancer dataset and print feature importance scores.\n",
    "\n",
    "from sklearn.datasets import load_breast_cancer\n",
    "from sklearn.ensemble import RandomForestClassifier\n",
    "\n",
    "# Load data\n",
    "X, y = load_breast_cancer(return_X_y=True)\n",
    "X_train, X_test, y_train, y_test = train_test_split(X, y, test_size=0.2, random_state=42)\n",
    "\n",
    "# Train model\n",
    "rf_clf = RandomForestClassifier(n_estimators=100, random_state=42)\n",
    "rf_clf.fit(X_train, y_train)\n",
    "\n",
    "# Print feature importance\n",
    "importances = rf_clf.feature_importances_\n",
    "for feature, score in zip(load_breast_cancer().feature_names, importances):\n",
    "    print(f\"{feature}: {score:.4f}\")\n"
   ]
  },
  {
   "cell_type": "code",
   "execution_count": 16,
   "id": "4a69477e-1c26-4cd5-be56-d619717585fe",
   "metadata": {},
   "outputs": [
    {
     "name": "stdout",
     "output_type": "stream",
     "text": [
      "Random Forest Regressor MSE: 0.03\n",
      "Decision Tree Regressor MSE: 0.05\n"
     ]
    }
   ],
   "source": [
    "# 24. Train a Random Forest Regressor and compare its performance with a single Decision Tree.\n",
    "from sklearn.ensemble import RandomForestRegressor\n",
    "rf_reg = RandomForestRegressor(n_estimators=100, random_state=42)\n",
    "dt_reg = DecisionTreeRegressor(random_state=42)\n",
    "\n",
    "rf_reg.fit(X_train, y_train)\n",
    "dt_reg.fit(X_train, y_train)\n",
    "\n",
    "rf_mse = mean_squared_error(y_test, rf_reg.predict(X_test))\n",
    "dt_mse = mean_squared_error(y_test, dt_reg.predict(X_test))\n",
    "\n",
    "print(f\"Random Forest Regressor MSE: {rf_mse:.2f}\")\n",
    "print(f\"Decision Tree Regressor MSE: {dt_mse:.2f}\")\n"
   ]
  },
  {
   "cell_type": "code",
   "execution_count": 18,
   "id": "3e6ecf8d-1b88-404a-b18c-437628d2c7f9",
   "metadata": {},
   "outputs": [
    {
     "name": "stdout",
     "output_type": "stream",
     "text": [
      "OOB Score: 0.9560\n"
     ]
    }
   ],
   "source": [
    "# 25. Compute the Out-of-Bag (OOB) Score for a Random Forest Classifier.\n",
    "\n",
    "rf_oob = RandomForestClassifier(n_estimators=100, oob_score=True, random_state=42)\n",
    "rf_oob.fit(X_train, y_train)\n",
    "\n",
    "print(f\"OOB Score: {rf_oob.oob_score_:.4f}\")\n"
   ]
  },
  {
   "cell_type": "code",
   "execution_count": 24,
   "id": "7a858d4e-3d9e-41f8-8731-823bb1fd349a",
   "metadata": {},
   "outputs": [
    {
     "name": "stdout",
     "output_type": "stream",
     "text": [
      "Accuracy of Bagging Classifier with SVM: 0.9474\n"
     ]
    }
   ],
   "source": [
    "# 26. Train a Bagging Classifier using SVM as a base estimator and print accuracy.\n",
    "\n",
    "from sklearn.svm import SVC\n",
    "from sklearn.ensemble import BaggingClassifier\n",
    "\n",
    "svm = SVC(probability=True)\n",
    "bagging_svm = BaggingClassifier(estimator=svm, n_estimators=10, random_state=42)\n",
    "bagging_svm.fit(X_train, y_train)\n",
    "\n",
    "accuracy = accuracy_score(y_test, bagging_svm.predict(X_test))\n",
    "print(f\"Accuracy of Bagging Classifier with SVM: {accuracy:.4f}\")\n"
   ]
  },
  {
   "cell_type": "code",
   "execution_count": 28,
   "id": "f399b88d-b451-4fc7-8885-7cb87664ed21",
   "metadata": {},
   "outputs": [
    {
     "name": "stdout",
     "output_type": "stream",
     "text": [
      "Accuracy of Bagging Classifier with SVM: 0.9474\n"
     ]
    }
   ],
   "source": [
    "# 26. Train a Bagging Classifier using SVM as a base estimator and print accuracy.\n",
    "\n",
    "from sklearn.svm import SVC\n",
    "\n",
    "svm = SVC(probability=True)\n",
    "bagging_svm = BaggingClassifier(estimator=svm, n_estimators=10, random_state=42)\n",
    "bagging_svm.fit(X_train, y_train)\n",
    "\n",
    "accuracy = accuracy_score(y_test, bagging_svm.predict(X_test))\n",
    "print(f\"Accuracy of Bagging Classifier with SVM: {accuracy:.4f}\")\n"
   ]
  },
  {
   "cell_type": "code",
   "execution_count": 30,
   "id": "f53523de-d8a1-42ec-9caa-7153a466cdc3",
   "metadata": {},
   "outputs": [
    {
     "name": "stdout",
     "output_type": "stream",
     "text": [
      "n_estimators=10, Accuracy=0.9561\n",
      "n_estimators=50, Accuracy=0.9649\n",
      "n_estimators=100, Accuracy=0.9649\n",
      "n_estimators=200, Accuracy=0.9649\n"
     ]
    }
   ],
   "source": [
    "# 27. Train a Random Forest Classifier with different numbers of trees and compare accuracy.\n",
    "\n",
    "for n in [10, 50, 100, 200]:\n",
    "    model = RandomForestClassifier(n_estimators=n, random_state=42)\n",
    "    model.fit(X_train, y_train)\n",
    "    acc = accuracy_score(y_test, model.predict(X_test))\n",
    "    print(f\"n_estimators={n}, Accuracy={acc:.4f}\")\n"
   ]
  },
  {
   "cell_type": "code",
   "execution_count": 34,
   "id": "1a196d05-6f74-4c2f-888f-ea35fd986d01",
   "metadata": {},
   "outputs": [
    {
     "name": "stdout",
     "output_type": "stream",
     "text": [
      "AUC Score (Bagging + Logistic Regression): 0.9885\n"
     ]
    }
   ],
   "source": [
    "# 28. Train a Bagging Classifier using Logistic Regression as a base estimator and print AUC score.\n",
    "\n",
    "from sklearn.linear_model import LogisticRegression\n",
    "from sklearn.metrics import roc_auc_score\n",
    "\n",
    "X_bin = X_train[:, :10]  # For binary classification with fewer features\n",
    "y_bin = (y_train == y_train.max()).astype(int)\n",
    "X_test_bin = X_test[:, :10]\n",
    "y_test_bin = (y_test == y_test.max()).astype(int)\n",
    "\n",
    "bagging_lr = BaggingClassifier(estimator=LogisticRegression(max_iter=1000), n_estimators=10, random_state=42)\n",
    "bagging_lr.fit(X_bin, y_bin)\n",
    "y_proba = bagging_lr.predict_proba(X_test_bin)[:, 1]\n",
    "auc = roc_auc_score(y_test_bin, y_proba)\n",
    "print(f\"AUC Score (Bagging + Logistic Regression): {auc:.4f}\")\n"
   ]
  },
  {
   "cell_type": "code",
   "execution_count": 36,
   "id": "88218b5e-e43a-4273-80fc-be2ee8c6b231",
   "metadata": {},
   "outputs": [
    {
     "name": "stdout",
     "output_type": "stream",
     "text": [
      "Feature 0: Importance = 0.0014\n",
      "Feature 1: Importance = 0.0211\n",
      "Feature 2: Importance = 0.0025\n",
      "Feature 3: Importance = 0.0051\n",
      "Feature 4: Importance = 0.0067\n",
      "Feature 5: Importance = 0.0008\n",
      "Feature 6: Importance = 0.0047\n",
      "Feature 7: Importance = 0.2028\n",
      "Feature 8: Importance = 0.0027\n",
      "Feature 9: Importance = 0.0021\n",
      "Feature 10: Importance = 0.0037\n",
      "Feature 11: Importance = 0.0038\n",
      "Feature 12: Importance = 0.0039\n",
      "Feature 13: Importance = 0.0102\n",
      "Feature 14: Importance = 0.0035\n",
      "Feature 15: Importance = 0.0017\n",
      "Feature 16: Importance = 0.0066\n",
      "Feature 17: Importance = 0.0033\n",
      "Feature 18: Importance = 0.0035\n",
      "Feature 19: Importance = 0.0053\n",
      "Feature 20: Importance = 0.1035\n",
      "Feature 21: Importance = 0.0255\n",
      "Feature 22: Importance = 0.1589\n",
      "Feature 23: Importance = 0.1182\n",
      "Feature 24: Importance = 0.0085\n",
      "Feature 25: Importance = 0.0018\n",
      "Feature 26: Importance = 0.0118\n",
      "Feature 27: Importance = 0.2699\n",
      "Feature 28: Importance = 0.0042\n",
      "Feature 29: Importance = 0.0024\n"
     ]
    }
   ],
   "source": [
    "# 29. Train a Random Forest Regressor and analyze feature importance scores.\n",
    "\n",
    "rf_reg = RandomForestRegressor(n_estimators=100, random_state=42)\n",
    "rf_reg.fit(X_train, y_train)\n",
    "\n",
    "importances = rf_reg.feature_importances_\n",
    "for i, score in enumerate(importances):\n",
    "    print(f\"Feature {i}: Importance = {score:.4f}\")\n"
   ]
  },
  {
   "cell_type": "code",
   "execution_count": 40,
   "id": "fadcb8c0-0a24-4064-816b-7c3a69ab2cf1",
   "metadata": {},
   "outputs": [
    {
     "name": "stdout",
     "output_type": "stream",
     "text": [
      "Random Forest Accuracy: 0.9649\n",
      "Bagging Accuracy: 0.9561\n"
     ]
    }
   ],
   "source": [
    "# 30. Train an ensemble model using both Bagging and Random Forest and compare accuracy.\n",
    "\n",
    "rf_model = RandomForestClassifier(n_estimators=100, random_state=42)\n",
    "bag_model = BaggingClassifier(estimator=DecisionTreeClassifier(), n_estimators=100, random_state=42)\n",
    "\n",
    "rf_model.fit(X_train, y_train)\n",
    "bag_model.fit(X_train, y_train)\n",
    "\n",
    "acc_rf = accuracy_score(y_test, rf_model.predict(X_test))\n",
    "acc_bag = accuracy_score(y_test, bag_model.predict(X_test))\n",
    "\n",
    "print(f\"Random Forest Accuracy: {acc_rf:.4f}\")\n",
    "print(f\"Bagging Accuracy: {acc_bag:.4f}\")\n"
   ]
  },
  {
   "cell_type": "code",
   "execution_count": 42,
   "id": "8a589363-c0fd-48b2-9de0-832502fd5721",
   "metadata": {},
   "outputs": [
    {
     "name": "stdout",
     "output_type": "stream",
     "text": [
      "Best Parameters: {'max_depth': None, 'min_samples_leaf': 1, 'min_samples_split': 2, 'n_estimators': 50}\n",
      "Accuracy of best Random Forest Classifier: 1.0000\n"
     ]
    }
   ],
   "source": [
    "# 31. Train a Random Forest Classifier and tune hyperparameters using GridSearchCV.\n",
    "\n",
    "from sklearn.datasets import load_iris\n",
    "from sklearn.ensemble import RandomForestClassifier\n",
    "from sklearn.model_selection import train_test_split, GridSearchCV\n",
    "from sklearn.metrics import accuracy_score\n",
    "\n",
    "# Load dataset\n",
    "X, y = load_iris(return_X_y=True)\n",
    "X_train, X_test, y_train, y_test = train_test_split(X, y, test_size=0.2, random_state=42)\n",
    "\n",
    "# Define model and parameter grid\n",
    "rf = RandomForestClassifier(random_state=42)\n",
    "param_grid = {\n",
    "    'n_estimators': [50, 100],\n",
    "    'max_depth': [None, 5, 10],\n",
    "    'min_samples_split': [2, 5],\n",
    "    'min_samples_leaf': [1, 2]\n",
    "}\n",
    "\n",
    "# Perform GridSearchCV\n",
    "grid_search = GridSearchCV(rf, param_grid, cv=3, scoring='accuracy', n_jobs=-1)\n",
    "grid_search.fit(X_train, y_train)\n",
    "\n",
    "# Best model\n",
    "best_model = grid_search.best_estimator_\n",
    "\n",
    "# Evaluate on test set\n",
    "y_pred = best_model.predict(X_test)\n",
    "accuracy = accuracy_score(y_test, y_pred)\n",
    "print(f\"Best Parameters: {grid_search.best_params_}\")\n",
    "print(f\"Accuracy of best Random Forest Classifier: {accuracy:.4f}\")\n"
   ]
  },
  {
   "cell_type": "code",
   "execution_count": 46,
   "id": "fb98ab00-f45a-45fc-aafa-2ae883e342a0",
   "metadata": {},
   "outputs": [
    {
     "name": "stdout",
     "output_type": "stream",
     "text": [
      "n_estimators=5, MSE: 0.0026666666666666653\n",
      "n_estimators=10, MSE: 0.0006666666666666678\n",
      "n_estimators=20, MSE: 0.0021666666666666653\n"
     ]
    }
   ],
   "source": [
    "# 32. Train a Bagging Regressor with different numbers of base estimators and compare performance.\n",
    "from sklearn.ensemble import BaggingRegressor\n",
    "from sklearn.tree import DecisionTreeRegressor\n",
    "from sklearn.metrics import mean_squared_error\n",
    "\n",
    "for n in [5, 10, 20]:\n",
    "    model = BaggingRegressor(estimator=DecisionTreeRegressor(), n_estimators=n)\n",
    "    model.fit(X_train, y_train)\n",
    "    preds = model.predict(X_test)\n",
    "    print(f\"n_estimators={n}, MSE: {mean_squared_error(y_test, preds)}\")\n"
   ]
  },
  {
   "cell_type": "code",
   "execution_count": 48,
   "id": "1cc85a43-2a14-430b-8e77-bc3a9c953a19",
   "metadata": {},
   "outputs": [
    {
     "name": "stdout",
     "output_type": "stream",
     "text": [
      "Misclassified samples:\n",
      " []\n"
     ]
    }
   ],
   "source": [
    "# 33. Train a Random Forest Classifier and analyze misclassified samples.\n",
    "from sklearn.ensemble import RandomForestClassifier\n",
    "from sklearn.metrics import confusion_matrix\n",
    "\n",
    "clf = RandomForestClassifier()\n",
    "clf.fit(X_train, y_train)\n",
    "y_pred = clf.predict(X_test)\n",
    "misclassified_indices = y_test != y_pred\n",
    "print(\"Misclassified samples:\\n\", X_test[misclassified_indices])\n"
   ]
  },
  {
   "cell_type": "code",
   "execution_count": 52,
   "id": "a1aaabda-79ac-45dc-a0d0-1c9df2e9d05e",
   "metadata": {},
   "outputs": [
    {
     "name": "stdout",
     "output_type": "stream",
     "text": [
      "Decision Tree Accuracy: 1.0\n",
      "Bagging Classifier Accuracy: 1.0\n"
     ]
    }
   ],
   "source": [
    "# 34. Train a Bagging Classifier and compare its performance with a single Decision Tree Classifier.\n",
    "from sklearn.ensemble import BaggingClassifier\n",
    "from sklearn.tree import DecisionTreeClassifier\n",
    "from sklearn.metrics import accuracy_score\n",
    "\n",
    "dt = DecisionTreeClassifier().fit(X_train, y_train)\n",
    "bag = BaggingClassifier(estimator=DecisionTreeClassifier(), n_estimators=10).fit(X_train, y_train)\n",
    "\n",
    "print(\"Decision Tree Accuracy:\", accuracy_score(y_test, dt.predict(X_test)))\n",
    "print(\"Bagging Classifier Accuracy:\", accuracy_score(y_test, bag.predict(X_test)))\n"
   ]
  },
  {
   "cell_type": "code",
   "execution_count": 54,
   "id": "888b3be5-8207-4696-81be-7b6caa36a37d",
   "metadata": {},
   "outputs": [
    {
     "data": {
      "image/png": "[encoded data removed]",
      "text/plain": [
       "<Figure size 640x480 with 2 Axes>"
      ]
     },
     "metadata": {},
     "output_type": "display_data"
    }
   ],
   "source": [
    "# 35. Train a Random Forest Classifier and visualize the confusion matrix.\n",
    "from sklearn.ensemble import RandomForestClassifier\n",
    "from sklearn.metrics import ConfusionMatrixDisplay\n",
    "import matplotlib.pyplot as plt\n",
    "\n",
    "clf = RandomForestClassifier().fit(X_train, y_train)\n",
    "y_pred = clf.predict(X_test)\n",
    "ConfusionMatrixDisplay.from_predictions(y_test, y_pred)\n",
    "plt.show()\n"
   ]
  },
  {
   "cell_type": "code",
   "execution_count": 56,
   "id": "74a65169-bb62-41ec-8419-7a90eb3a9285",
   "metadata": {},
   "outputs": [
    {
     "name": "stdout",
     "output_type": "stream",
     "text": [
      "Stacking Classifier Accuracy: 1.0\n"
     ]
    }
   ],
   "source": [
    "# 36. Train a Stacking Classifier using Decision Trees, SVM, and Logistic Regression, and compare accuracy.\n",
    "from sklearn.ensemble import StackingClassifier\n",
    "from sklearn.svm import SVC\n",
    "from sklearn.linear_model import LogisticRegression\n",
    "from sklearn.tree import DecisionTreeClassifier\n",
    "from sklearn.metrics import accuracy_score\n",
    "\n",
    "estimators = [\n",
    "    ('dt', DecisionTreeClassifier()),\n",
    "    ('svm', SVC(probability=True)),\n",
    "]\n",
    "stack_model = StackingClassifier(estimators=estimators, final_estimator=LogisticRegression())\n",
    "stack_model.fit(X_train, y_train)\n",
    "print(\"Stacking Classifier Accuracy:\", accuracy_score(y_test, stack_model.predict(X_test)))\n"
   ]
  },
  {
   "cell_type": "code",
   "execution_count": 58,
   "id": "0cb4f979-57bd-4333-9eb5-1f967a766528",
   "metadata": {},
   "outputs": [
    {
     "name": "stdout",
     "output_type": "stream",
     "text": [
      "Top 5 Important Features Indexes: [2 3 0 1]\n"
     ]
    }
   ],
   "source": [
    "# 37. Train a Random Forest Classifier and print the top 5 most important features.\n",
    "clf = RandomForestClassifier().fit(X_train, y_train)\n",
    "importances = clf.feature_importances_\n",
    "top_indices = importances.argsort()[-5:][::-1]\n",
    "print(\"Top 5 Important Features Indexes:\", top_indices)\n"
   ]
  },
  {
   "cell_type": "code",
   "execution_count": 62,
   "id": "0ab5580e-08ac-4408-9f4f-3af793d4d386",
   "metadata": {},
   "outputs": [
    {
     "name": "stdout",
     "output_type": "stream",
     "text": [
      "Precision: 1.0\n",
      "Recall: 1.0\n",
      "F1 Score: 1.0\n"
     ]
    }
   ],
   "source": [
    "# 38. Train a Bagging Classifier and evaluate performance using Precision, Recall, and F1-score.\n",
    "from sklearn.metrics import precision_score, recall_score, f1_score\n",
    "\n",
    "clf = BaggingClassifier(estimator=DecisionTreeClassifier()).fit(X_train, y_train)\n",
    "y_pred = clf.predict(X_test)\n",
    "print(\"Precision:\", precision_score(y_test, y_pred, average='weighted'))\n",
    "print(\"Recall:\", recall_score(y_test, y_pred, average='weighted'))\n",
    "print(\"F1 Score:\", f1_score(y_test, y_pred, average='weighted'))\n"
   ]
  },
  {
   "cell_type": "code",
   "execution_count": 64,
   "id": "00e23ae5-b69c-4f32-a703-2e12f4431159",
   "metadata": {},
   "outputs": [
    {
     "name": "stdout",
     "output_type": "stream",
     "text": [
      "max_depth=5, Accuracy=1.0\n",
      "max_depth=10, Accuracy=1.0\n",
      "max_depth=20, Accuracy=1.0\n",
      "max_depth=None, Accuracy=1.0\n"
     ]
    }
   ],
   "source": [
    "# 39. Train a Random Forest Classifier and analyze the effect of max_depth on accuracy.\n",
    "depths = [5, 10, 20, None]\n",
    "for d in depths:\n",
    "    clf = RandomForestClassifier(max_depth=d).fit(X_train, y_train)\n",
    "    acc = clf.score(X_test, y_test)\n",
    "    print(f\"max_depth={d}, Accuracy={acc}\")\n"
   ]
  },
  {
   "cell_type": "code",
   "execution_count": 68,
   "id": "2b3ccee0-124d-4784-9ce1-3d52ff8dad61",
   "metadata": {},
   "outputs": [
    {
     "name": "stdout",
     "output_type": "stream",
     "text": [
      "Base Estimator: DecisionTreeRegressor, MSE: 0.0013333333333333326\n",
      "Base Estimator: KNeighborsRegressor, MSE: 0.013159999999999998\n"
     ]
    }
   ],
   "source": [
    "# 40. Train a Bagging Regressor using different base estimators (DecisionTree and KNeighbors) and compare performance.\n",
    "from sklearn.neighbors import KNeighborsRegressor\n",
    "\n",
    "for base in [DecisionTreeRegressor(), KNeighborsRegressor()]:\n",
    "    model = BaggingRegressor(estimator=base, n_estimators=10)\n",
    "    model.fit(X_train, y_train)\n",
    "    preds = model.predict(X_test)\n",
    "    print(f\"Base Estimator: {type(base).__name__}, MSE: {mean_squared_error(y_test, preds)}\")\n"
   ]
  },
  {
   "cell_type": "code",
   "execution_count": 70,
   "id": "2727b042-867e-4536-a394-de8074f7ba5f",
   "metadata": {},
   "outputs": [
    {
     "name": "stdout",
     "output_type": "stream",
     "text": [
      "ROC-AUC Score: 1.0\n"
     ]
    }
   ],
   "source": [
    "# 41. Train a Random Forest Classifier and evaluate its performance using ROC-AUC Score.\n",
    "from sklearn.metrics import roc_auc_score\n",
    "from sklearn.preprocessing import LabelBinarizer\n",
    "\n",
    "clf = RandomForestClassifier().fit(X_train, y_train)\n",
    "y_score = clf.predict_proba(X_test)\n",
    "y_bin = LabelBinarizer().fit_transform(y_test)\n",
    "print(\"ROC-AUC Score:\", roc_auc_score(y_bin, y_score, average='weighted', multi_class='ovr'))\n"
   ]
  },
  {
   "cell_type": "code",
   "execution_count": 74,
   "id": "c44f7a0a-8e75-400c-b199-515a9b51472d",
   "metadata": {},
   "outputs": [
    {
     "name": "stdout",
     "output_type": "stream",
     "text": [
      "Cross-validation scores: [0.95833333 1.         0.79166667 0.95833333 0.95833333]\n",
      "Mean CV Score: 0.9333333333333333\n"
     ]
    }
   ],
   "source": [
    "# 42. Train a Bagging Classifier and evaluate its performance using cross-validation.\n",
    "from sklearn.model_selection import cross_val_score\n",
    "\n",
    "clf = BaggingClassifier(estimator=DecisionTreeClassifier(), n_estimators=10)\n",
    "scores = cross_val_score(clf, X_train, y_train, cv=5)\n",
    "print(\"Cross-validation scores:\", scores)\n",
    "print(\"Mean CV Score:\", scores.mean())\n"
   ]
  },
  {
   "cell_type": "code",
   "execution_count": 80,
   "id": "03141ee5-bf59-4ffd-899e-afefb625a94f",
   "metadata": {},
   "outputs": [
    {
     "data": {
      "image/png": "[encoded data removed]",
      "text/plain": [
       "<Figure size 640x480 with 1 Axes>"
      ]
     },
     "metadata": {},
     "output_type": "display_data"
    }
   ],
   "source": [
    "# 43. Train a Random Forest Classifier and plot the Precision-Recall curve (multiclass-compatible).\n",
    "from sklearn.preprocessing import label_binarize\n",
    "from sklearn.metrics import precision_recall_curve\n",
    "import matplotlib.pyplot as plt\n",
    "\n",
    "classes = list(set(y_test))\n",
    "y_test_bin = label_binarize(y_test, classes=classes)\n",
    "y_score = clf.predict_proba(X_test)\n",
    "\n",
    "for i, class_label in enumerate(classes):\n",
    "    precision, recall, _ = precision_recall_curve(y_test_bin[:, i], y_score[:, i])\n",
    "    plt.plot(recall, precision, label=f\"Class {class_label}\")\n",
    "\n",
    "plt.xlabel(\"Recall\")\n",
    "plt.ylabel(\"Precision\")\n",
    "plt.title(\"Precision-Recall Curve (One-vs-Rest)\")\n",
    "plt.legend()\n",
    "plt.show()\n"
   ]
  },
  {
   "cell_type": "code",
   "execution_count": 82,
   "id": "f9fc1e16-4350-4634-ac2b-ce759bd831e9",
   "metadata": {},
   "outputs": [
    {
     "name": "stdout",
     "output_type": "stream",
     "text": [
      "Stacking Accuracy: 1.0\n"
     ]
    }
   ],
   "source": [
    "# 44. Train a Stacking Classifier with Random Forest and Logistic Regression and compare accuracy.\n",
    "estimators = [\n",
    "    ('rf', RandomForestClassifier()),\n",
    "]\n",
    "stack_model = StackingClassifier(estimators=estimators, final_estimator=LogisticRegression())\n",
    "stack_model.fit(X_train, y_train)\n",
    "print(\"Stacking Accuracy:\", accuracy_score(y_test, stack_model.predict(X_test)))\n"
   ]
  },
  {
   "cell_type": "code",
   "execution_count": 86,
   "id": "94910875-6a5f-41d1-bfd2-a11fe919f02f",
   "metadata": {},
   "outputs": [
    {
     "name": "stdout",
     "output_type": "stream",
     "text": [
      "Bootstrap=True, MSE=0.0016666666666666666\n",
      "Bootstrap=False, MSE=0.0\n"
     ]
    }
   ],
   "source": [
    "# 45. Train a Bagging Regressor with different levels of bootstrap samples and compare performance.\n",
    "for bootstrap_val in [True, False]:\n",
    "    model = BaggingRegressor(estimator=DecisionTreeRegressor(), n_estimators=10, bootstrap=bootstrap_val)\n",
    "    model.fit(X_train, y_train)\n",
    "    preds = model.predict(X_test)\n",
    "    print(f\"Bootstrap={bootstrap_val}, MSE={mean_squared_error(y_test, preds)}\")\n"
   ]
  },
  {
   "cell_type": "code",
   "execution_count": null,
   "id": "427fc4bc-8248-4ff6-93de-04415dfeaf04",
   "metadata": {},
   "outputs": [],
   "source": []
  }
 ],
 "metadata": {
  "kernelspec": {
   "display_name": "Python 3 (ipykernel)",
   "language": "python",
   "name": "python3"
  },
  "language_info": {
   "codemirror_mode": {
    "name": "ipython",
    "version": 3
   },
   "file_extension": ".py",
   "mimetype": "text/x-python",
   "name": "python",
   "nbconvert_exporter": "python",
   "pygments_lexer": "ipython3",
   "version": "3.12.7"
  }
 },
 "nbformat": 4,
 "nbformat_minor": 5
}
